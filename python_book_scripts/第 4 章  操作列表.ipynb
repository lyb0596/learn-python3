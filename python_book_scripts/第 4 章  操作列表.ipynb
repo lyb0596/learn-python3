{
 "cells": [
  {
   "cell_type": "code",
   "execution_count": 4,
   "metadata": {},
   "outputs": [
    {
     "name": "stdout",
     "output_type": "stream",
     "text": [
      "alice\n",
      "david\n",
      "carolina\n"
     ]
    }
   ],
   "source": [
    "magicians = ['alice', 'david', 'carolina']\n",
    "for magician in magicians:\n",
    "    print(magician)"
   ]
  },
  {
   "cell_type": "code",
   "execution_count": 7,
   "metadata": {},
   "outputs": [
    {
     "name": "stdout",
     "output_type": "stream",
     "text": [
      "1\n",
      "2\n",
      "3\n",
      "4\n",
      "[1, 2, 3, 4]\n"
     ]
    }
   ],
   "source": [
    "#4.3　创建数值列表\n",
    "for value in range(1,5):\n",
    "    print(value)\n",
    "#可使用函数list() 将range() 的结果直接转换为列表\n",
    "numbers = list(range(1,5))\n",
    "print(numbers)"
   ]
  },
  {
   "cell_type": "code",
   "execution_count": 9,
   "metadata": {},
   "outputs": [
    {
     "name": "stdout",
     "output_type": "stream",
     "text": [
      "[1, 3, 5, 7, 9]\n"
     ]
    }
   ],
   "source": [
    "#打印1~10内的奇数\n",
    "numbers = list(range(1,10,2))\n",
    "print(numbers)"
   ]
  },
  {
   "cell_type": "code",
   "execution_count": 15,
   "metadata": {},
   "outputs": [
    {
     "name": "stdout",
     "output_type": "stream",
     "text": [
      "[1, 9, 25, 49, 81]\n",
      "[1, 4, 9, 16, 25, 36, 49, 64, 81, 100]\n"
     ]
    }
   ],
   "source": [
    "squares = []\n",
    "for value in numbers:\n",
    "    square = value**2\n",
    "    squares.append(square)\n",
    "print(squares)\n",
    "suqares2 = [value**2 for value in range(1,11)]\n",
    "print(suqares2)"
   ]
  },
  {
   "cell_type": "code",
   "execution_count": 31,
   "metadata": {},
   "outputs": [
    {
     "name": "stdout",
     "output_type": "stream",
     "text": [
      "499500\n"
     ]
    }
   ],
   "source": [
    "#4-5 计算1~1 000 000的总和\n",
    "numbers =list(range(1,1000))\n",
    "sum_number = 0\n",
    "for number in numbers:    \n",
    "    sum_number = number + sum_number\n",
    "print(sum_number)"
   ]
  },
  {
   "cell_type": "code",
   "execution_count": 34,
   "metadata": {},
   "outputs": [
    {
     "name": "stdout",
     "output_type": "stream",
     "text": [
      "['charles', 'aaa', 'michael', 'florence', 'eli']\n",
      "['charles', 'martina', 'michael', 'florence', 'eli']\n",
      "['charles', 'aaa', 'michael', 'florence', 'eli']\n"
     ]
    }
   ],
   "source": [
    "#4.4.2　遍历切片\n",
    "players = ['charles', 'martina', 'michael', 'florence', 'eli']\n",
    "players2 = players[:]\n",
    "\n",
    "#对照区别\n",
    "players3 = players\n",
    "players[1] = 'aaa'\n",
    "print(players)\n",
    "print(players2)\n",
    "print(players3)"
   ]
  },
  {
   "cell_type": "code",
   "execution_count": null,
   "metadata": {},
   "outputs": [],
   "source": []
  }
 ],
 "metadata": {
  "kernelspec": {
   "display_name": "Python 3",
   "language": "python",
   "name": "python3"
  },
  "language_info": {
   "codemirror_mode": {
    "name": "ipython",
    "version": 3
   },
   "file_extension": ".py",
   "mimetype": "text/x-python",
   "name": "python",
   "nbconvert_exporter": "python",
   "pygments_lexer": "ipython3",
   "version": "3.6.5"
  }
 },
 "nbformat": 4,
 "nbformat_minor": 2
}
