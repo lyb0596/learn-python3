{
 "cells": [
  {
   "cell_type": "code",
   "execution_count": 3,
   "metadata": {},
   "outputs": [
    {
     "name": "stdout",
     "output_type": "stream",
     "text": [
      "green\n",
      "5\n",
      "{'color': 'green', 'point': 5}\n"
     ]
    }
   ],
   "source": [
    "#字典 是一系列键—值对 。每个键 都与一个值相关联\n",
    "alien_0 = {'color':'green','point':5}\n",
    "print(alien_0['color'])\n",
    "print(alien_0['point'])\n",
    "print(alien_0)"
   ]
  },
  {
   "cell_type": "code",
   "execution_count": 4,
   "metadata": {},
   "outputs": [
    {
     "name": "stdout",
     "output_type": "stream",
     "text": [
      "{'color': 'green', 'point': 5}\n",
      "{'color': 'green', 'point': 5, 'a': 'add'}\n"
     ]
    }
   ],
   "source": [
    "#6.2.2字典是一种动态结构，可随时在其中添加键—值对。\n",
    "alien_0 = {'color':'green','point':5}\n",
    "print(alien_0)\n",
    "alien_0['a']='add'\n",
    "print(alien_0)\n"
   ]
  },
  {
   "cell_type": "code",
   "execution_count": 8,
   "metadata": {},
   "outputs": [
    {
     "name": "stdout",
     "output_type": "stream",
     "text": [
      "Original x-position: 0\n",
      "3\n"
     ]
    }
   ],
   "source": [
    "#6.2.3\n",
    "alien_0 = {'x_position': 0, 'y_position': 25, 'speed': 'medium'}\n",
    "alien_0['speed'] = 'fast'\n",
    "print(\"Original x-position: \" + str(alien_0['x_position']))\n",
    "#根据speed移动\n",
    "if alien_0['speed'] == 'slow':\n",
    "    x_increase = 1\n",
    "elif alien_0['speed'] == 'medium':\n",
    "    x_increase = 2\n",
    "else:\n",
    "    x_increase = 3\n",
    "    \n",
    "alien_0['x_position']= + x_increase\n",
    "print(alien_0['x_position'])"
   ]
  },
  {
   "cell_type": "code",
   "execution_count": 9,
   "metadata": {},
   "outputs": [
    {
     "name": "stdout",
     "output_type": "stream",
     "text": [
      "{'points': 5}\n"
     ]
    }
   ],
   "source": [
    "#6.2.5　删除键—值对\n",
    "alien_0 = {'color': 'green', 'points': 5}\n",
    "del alien_0['color']\n",
    "print(alien_0)"
   ]
  },
  {
   "cell_type": "code",
   "execution_count": 11,
   "metadata": {},
   "outputs": [
    {
     "name": "stdout",
     "output_type": "stream",
     "text": [
      "color green\n",
      "points 5\n"
     ]
    }
   ],
   "source": [
    "#6.3.1　遍历所有的键—值对\n",
    "alien_0 = {'color': 'green', 'points': '5'}\n",
    "for key,value in alien_0.items():\n",
    "    print(key + \" \" + value)"
   ]
  },
  {
   "cell_type": "code",
   "execution_count": 16,
   "metadata": {},
   "outputs": [
    {
     "name": "stdout",
     "output_type": "stream",
     "text": [
      "\n",
      "jen\n",
      "\n",
      "sarah\n",
      "\n",
      "edward\n",
      "\n",
      "phil\n",
      "Edward\n",
      "Jen\n",
      "Phil\n",
      "Sarah\n"
     ]
    }
   ],
   "source": [
    "#6.3.2　遍历字典中的所有键\n",
    "favorite_languages = {\n",
    "'jen': 'python',\n",
    "'sarah': 'c',\n",
    "'edward': 'ruby',\n",
    "'phil': 'python',\n",
    "}\n",
    "for key in favorite_languages.keys():\n",
    "    print('\\n' +key)\n",
    "for name in sorted(favorite_languages.keys()):\n",
    "    print(name.title())"
   ]
  },
  {
   "cell_type": "code",
   "execution_count": 17,
   "metadata": {
    "scrolled": true
   },
   "outputs": [
    {
     "name": "stdout",
     "output_type": "stream",
     "text": [
      "python\n",
      "c\n",
      "ruby\n",
      "python\n"
     ]
    }
   ],
   "source": [
    "#6.3.4　遍历字典中的所有值\n",
    "favorite_languages = {\n",
    "'jen': 'python',\n",
    "'sarah': 'c',\n",
    "'edward': 'ruby',\n",
    "'phil': 'python',\n",
    "}\n",
    "for value in favorite_languages.values():\n",
    "    print(value)"
   ]
  },
  {
   "cell_type": "code",
   "execution_count": 28,
   "metadata": {},
   "outputs": [
    {
     "name": "stdout",
     "output_type": "stream",
     "text": [
      "[{'color': 'green', 'points': 5}, {'color': 'yellow', 'points': 10}, {'color': 'red', 'points': 15}]\n",
      "\n",
      "color green\n",
      "points 5\n",
      "\n",
      "color yellow\n",
      "points 10\n",
      "\n",
      "color red\n",
      "points 15\n"
     ]
    }
   ],
   "source": [
    "#6.4.1　列表中嵌套字典\n",
    "alien_0 = {'color': 'green', 'points': 5}\n",
    "alien_1 = {'color': 'yellow', 'points': 10}\n",
    "alien_2 = {'color': 'red', 'points': 15}\n",
    "aliens = [alien_0,alien_1,alien_2]\n",
    "print(aliens)\n",
    "for alien in aliens:\n",
    "    print(\"\\ncolor \" + alien['color']);\n",
    "    print(\"points \" + str(alien['points']));   "
   ]
  },
  {
   "cell_type": "code",
   "execution_count": 31,
   "metadata": {},
   "outputs": [
    {
     "name": "stdout",
     "output_type": "stream",
     "text": [
      "tick\n",
      "['mushrooms', 'extra cheese']\n",
      "mushrooms\n",
      "extra cheese\n"
     ]
    }
   ],
   "source": [
    "#6.4.2　在字典中存储列表\n",
    "pizza = {\n",
    "    'crust':'tick',\n",
    "    'topping':['mushrooms','extra cheese']\n",
    "}\n",
    "print(pizza['crust'])\n",
    "print(pizza['topping'])\n",
    "for topping in pizza['topping']:\n",
    "    print(topping)"
   ]
  },
  {
   "cell_type": "code",
   "execution_count": 42,
   "metadata": {},
   "outputs": [
    {
     "name": "stdout",
     "output_type": "stream",
     "text": [
      "xiaoming age is 10\n",
      "\n",
      "xiaohong age is 9\n",
      "\n"
     ]
    }
   ],
   "source": [
    "#6.4.3　在字典中存储字典\n",
    "peoples = {\n",
    "    \"xiaoming\" : {\n",
    "        'name':'xiaoming',\n",
    "        'age':'10'\n",
    "    },\n",
    "    \"lilei\" : {\n",
    "        'name':'xiaohong',\n",
    "        'age':'9'        \n",
    "    }\n",
    "}\n",
    "for people,info in peoples.items():\n",
    "     print(info['name'] + \" age is \" + info['age']  + \"\\n\")"
   ]
  },
  {
   "cell_type": "code",
   "execution_count": null,
   "metadata": {},
   "outputs": [],
   "source": []
  }
 ],
 "metadata": {
  "kernelspec": {
   "display_name": "Python 3",
   "language": "python",
   "name": "python3"
  },
  "language_info": {
   "codemirror_mode": {
    "name": "ipython",
    "version": 3
   },
   "file_extension": ".py",
   "mimetype": "text/x-python",
   "name": "python",
   "nbconvert_exporter": "python",
   "pygments_lexer": "ipython3",
   "version": "3.6.5"
  }
 },
 "nbformat": 4,
 "nbformat_minor": 2
}
