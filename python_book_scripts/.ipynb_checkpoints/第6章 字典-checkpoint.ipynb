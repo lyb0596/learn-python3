{
 "cells": [
  {
   "cell_type": "code",
   "execution_count": 3,
   "metadata": {},
   "outputs": [
    {
     "name": "stdout",
     "output_type": "stream",
     "text": [
      "green\n",
      "5\n",
      "{'color': 'green', 'point': 5}\n"
     ]
    }
   ],
   "source": [
    "#字典 是一系列键—值对 。每个键 都与一个值相关联\n",
    "alien_0 = {'color':'green','point':5}\n",
    "print(alien_0['color'])\n",
    "print(alien_0['point'])\n",
    "print(alien_0)"
   ]
  },
  {
   "cell_type": "code",
   "execution_count": 4,
   "metadata": {},
   "outputs": [
    {
     "name": "stdout",
     "output_type": "stream",
     "text": [
      "{'color': 'green', 'point': 5}\n",
      "{'color': 'green', 'point': 5, 'a': 'add'}\n"
     ]
    }
   ],
   "source": [
    "#6.2.2字典是一种动态结构，可随时在其中添加键—值对。\n",
    "alien_0 = {'color':'green','point':5}\n",
    "print(alien_0)\n",
    "alien_0['a']='add'\n",
    "print(alien_0)\n"
   ]
  },
  {
   "cell_type": "code",
   "execution_count": 8,
   "metadata": {},
   "outputs": [
    {
     "name": "stdout",
     "output_type": "stream",
     "text": [
      "Original x-position: 0\n",
      "3\n"
     ]
    }
   ],
   "source": [
    "#6.2.3\n",
    "alien_0 = {'x_position': 0, 'y_position': 25, 'speed': 'medium'}\n",
    "alien_0['speed'] = 'fast'\n",
    "print(\"Original x-position: \" + str(alien_0['x_position']))\n",
    "#根据speed移动\n",
    "if alien_0['speed'] == 'slow':\n",
    "    x_increase = 1\n",
    "elif alien_0['speed'] == 'medium':\n",
    "    x_increase = 2\n",
    "else:\n",
    "    x_increase = 3\n",
    "    \n",
    "alien_0['x_position']= + x_increase\n",
    "print(alien_0['x_position'])"
   ]
  },
  {
   "cell_type": "code",
   "execution_count": 9,
   "metadata": {},
   "outputs": [
    {
     "name": "stdout",
     "output_type": "stream",
     "text": [
      "{'points': 5}\n"
     ]
    }
   ],
   "source": [
    "#6.2.5　删除键—值对\n",
    "alien_0 = {'color': 'green', 'points': 5}\n",
    "del alien_0['color']\n",
    "print(alien_0)"
   ]
  },
  {
   "cell_type": "code",
   "execution_count": null,
   "metadata": {},
   "outputs": [],
   "source": []
  }
 ],
 "metadata": {
  "kernelspec": {
   "display_name": "Python 3",
   "language": "python",
   "name": "python3"
  },
  "language_info": {
   "codemirror_mode": {
    "name": "ipython",
    "version": 3
   },
   "file_extension": ".py",
   "mimetype": "text/x-python",
   "name": "python",
   "nbconvert_exporter": "python",
   "pygments_lexer": "ipython3",
   "version": "3.6.5"
  }
 },
 "nbformat": 4,
 "nbformat_minor": 2
}
