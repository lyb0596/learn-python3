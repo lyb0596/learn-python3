{
 "cells": [
  {
   "cell_type": "code",
   "execution_count": 2,
   "metadata": {},
   "outputs": [
    {
     "name": "stdout",
     "output_type": "stream",
     "text": [
      "dog is aaa\n"
     ]
    }
   ],
   "source": [
    "# 8.2.1　位置实参\n",
    "def pets(pet_type,pet_name):\n",
    "    print(pet_type + \" is \" + pet_name)\n",
    "pets(\"dog\",\"aaa\")"
   ]
  },
  {
   "cell_type": "code",
   "execution_count": 5,
   "metadata": {},
   "outputs": [
    {
     "name": "stdout",
     "output_type": "stream",
     "text": [
      "dog is aaa\n"
     ]
    }
   ],
   "source": [
    "# 8.2.2　关键字实参:关键字实参 是传递给函数的名称—值对\n",
    "def pets(pet_type,pet_name):\n",
    "    print(pet_type + \" is \" + pet_name)\n",
    "pets(pet_name=\"aaa\",pet_type='dog')"
   ]
  },
  {
   "cell_type": "code",
   "execution_count": null,
   "metadata": {},
   "outputs": [],
   "source": []
  }
 ],
 "metadata": {
  "kernelspec": {
   "display_name": "Python 3",
   "language": "python",
   "name": "python3"
  },
  "language_info": {
   "codemirror_mode": {
    "name": "ipython",
    "version": 3
   },
   "file_extension": ".py",
   "mimetype": "text/x-python",
   "name": "python",
   "nbconvert_exporter": "python",
   "pygments_lexer": "ipython3",
   "version": "3.6.5"
  }
 },
 "nbformat": 4,
 "nbformat_minor": 2
}
