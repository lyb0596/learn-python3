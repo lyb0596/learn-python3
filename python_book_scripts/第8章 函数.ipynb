{
 "cells": [
  {
   "cell_type": "code",
   "execution_count": 2,
   "metadata": {},
   "outputs": [
    {
     "name": "stdout",
     "output_type": "stream",
     "text": [
      "dog is aaa\n"
     ]
    }
   ],
   "source": [
    "# 8.2.1　位置实参\n",
    "def pets(pet_type,pet_name):\n",
    "    print(pet_type + \" is \" + pet_name)\n",
    "pets(\"dog\",\"aaa\")"
   ]
  },
  {
   "cell_type": "code",
   "execution_count": 5,
   "metadata": {},
   "outputs": [
    {
     "name": "stdout",
     "output_type": "stream",
     "text": [
      "dog is aaa\n"
     ]
    }
   ],
   "source": [
    "# 8.2.2　关键字实参:关键字实参 是传递给函数的名称—值对\n",
    "def pets(pet_type,pet_name):\n",
    "    print(pet_type + \" is \" + pet_name)\n",
    "pets(pet_name=\"aaa\",pet_type='dog')"
   ]
  },
  {
   "cell_type": "code",
   "execution_count": 6,
   "metadata": {},
   "outputs": [
    {
     "name": "stdout",
     "output_type": "stream",
     "text": [
      "aaaaabbbbb\n"
     ]
    }
   ],
   "source": [
    "# 8.3.1　返回简单值\n",
    "def pets(pet_type,pet_name):\n",
    "    return pet_type + pet_name\n",
    "print(pets(\"aaaaa\",\"bbbbb\"))"
   ]
  },
  {
   "cell_type": "code",
   "execution_count": 8,
   "metadata": {},
   "outputs": [
    {
     "name": "stdout",
     "output_type": "stream",
     "text": [
      "\n",
      "Please tell me your name:\n",
      "(enter 'q' at any time to quit)\n",
      "input first name: aaa\n",
      "input last name: bbb\n",
      "your name is: Aaa Bbb\n",
      "\n",
      "Please tell me your name:\n",
      "(enter 'q' at any time to quit)\n",
      "input first name: ccc\n",
      "input last name: ddd\n",
      "your name is: Ccc Ddd\n",
      "\n",
      "Please tell me your name:\n",
      "(enter 'q' at any time to quit)\n",
      "input first name: q\n"
     ]
    }
   ],
   "source": [
    "# 8.3.4　结合使用函数和while 循环\n",
    "def get_formatted_name(first_name, last_name ):\n",
    "    full_name = first_name + ' ' + last_name\n",
    "    return(full_name.title())\n",
    "input_active = True\n",
    "while input_active:\n",
    "    print(\"\\nPlease tell me your name:\")\n",
    "    print(\"(enter 'q' at any time to quit)\")\n",
    "    _first_name = input(\"input first name: \")\n",
    "    if _first_name == 'q':\n",
    "        break\n",
    "    _last_name = input(\"input last name: \")\n",
    "    if _last_name =='q':\n",
    "        break\n",
    "    print(\"your name is: \" + get_formatted_name(_first_name,_last_name))"
   ]
  },
  {
   "cell_type": "code",
   "execution_count": 18,
   "metadata": {},
   "outputs": [
    {
     "name": "stdout",
     "output_type": "stream",
     "text": [
      "\n",
      "unprinted_models: \n",
      "dodecahedron\n",
      "robot pendant\n",
      "iphone case\n",
      "\n",
      "show_completed_models: \n",
      "dodecahedron\n",
      "robot pendant\n",
      "iphone case\n"
     ]
    }
   ],
   "source": [
    "# 8.4.1　在函数中修改列表\n",
    "def print_modes(unprinted_designs,completed_models):\n",
    "    print(\"\\nunprinted_models: \")\n",
    "    while unprinted_designs:\n",
    "        completed_model = unprinted_designs.pop()\n",
    "        completed_models.append(completed_model)\n",
    "        print(completed_model)\n",
    "def show_completed_models(completed_models):\n",
    "    print(\"\\nshow_completed_models: \")\n",
    "    for completed_model in completed_models:\n",
    "        print(completed_model)\n",
    "        \n",
    "unprinted_designs = ['iphone case', 'robot pendant', 'dodecahedron']\n",
    "completed_models = []\n",
    "\n",
    "print_modes(unprinted_designs,completed_models)\n",
    "show_completed_models(completed_models)"
   ]
  },
  {
   "cell_type": "code",
   "execution_count": 19,
   "metadata": {},
   "outputs": [
    {
     "name": "stdout",
     "output_type": "stream",
     "text": [
      "('aaa', 'bbbb')\n"
     ]
    }
   ],
   "source": [
    "# 8.5　传递任意数量的实参\n",
    "# 形参名*toppings 中的星号让Python创建一个名为toppings 的空元组\n",
    "def pizza(*toppings):\n",
    "    print(toppings)\n",
    "pizza(\"aaa\",\"bbbb\")\n",
    "# 如果要让函数接受不同类型的实参，必须在函数定义中将接纳任意数量实参的形参放在最后\n",
    "# def make_pizza(size, *toppings):"
   ]
  },
  {
   "cell_type": "code",
   "execution_count": 24,
   "metadata": {},
   "outputs": [
    {
     "name": "stdout",
     "output_type": "stream",
     "text": [
      "{'first_name': 'albert', 'last_name': 'einstein', 'location': 'princeton', 'field': 'physics'}\n"
     ]
    }
   ],
   "source": [
    "# 8.5.2　使用任意数量的关键字实参\n",
    "def build_profile(first,last,**user_info):\n",
    "     #     \"\"\"创建一个字典，其中包含我们知道的有关用户的一切\"\"\"\n",
    "#         形参**user_info 中的两个星号让Python创建一个名为user_info 的\n",
    "空字典，并将收到的所有名称—值对都封装到这个字典中。\n",
    "    profile = {}\n",
    "    profile['first_name'] = first\n",
    "    profile['last_name'] = last\n",
    "    for key,value in user_info.items():\n",
    "        profile[key] = value\n",
    "    return profile\n",
    "user_profile = build_profile('albert','einstein',location='princeton',field='physics')\n",
    "print(user_profile)"
   ]
  },
  {
   "cell_type": "code",
   "execution_count": 25,
   "metadata": {},
   "outputs": [],
   "source": [
    "# 8.6.1　导入整个模块"
   ]
  },
  {
   "cell_type": "code",
   "execution_count": null,
   "metadata": {},
   "outputs": [],
   "source": [
    "# 8.6.2　导入特定的函数\n",
    "from module_name import function_0, function_1, function_2\n",
    "# 若使用这种语法，调用函数时就无需使用句点。由于我们在import 语句中显式地导入了函数make_pizza() ，因此调用它时只需指定其名称。\n",
    "# 8.6.3　使用as 给函数指定别名\n",
    "from pizza import make_pizza as mp\n",
    "# 8.6.4　使用as 给模块指定别名\n",
    "import pizza as p\n",
    "# 8.6.5　导入模块中的所有函数,使用星号（* ）运算符可让Python导入模块中的所有函数：\n",
    "from pizza import *\n",
    "    # 并非自己编写的大型模块时，最好不要采用这种导入方法"
   ]
  }
 ],
 "metadata": {
  "kernelspec": {
   "display_name": "Python 3",
   "language": "python",
   "name": "python3"
  },
  "language_info": {
   "codemirror_mode": {
    "name": "ipython",
    "version": 3
   },
   "file_extension": ".py",
   "mimetype": "text/x-python",
   "name": "python",
   "nbconvert_exporter": "python",
   "pygments_lexer": "ipython3",
   "version": "3.6.5"
  }
 },
 "nbformat": 4,
 "nbformat_minor": 2
}
