{
 "cells": [
  {
   "cell_type": "code",
   "execution_count": 3,
   "metadata": {},
   "outputs": [
    {
     "name": "stdout",
     "output_type": "stream",
     "text": [
      "green\n",
      "5\n",
      "{'color': 'green', 'point': 5}\n"
     ]
    }
   ],
   "source": [
    "#字典 是一系列键—值对 。每个键 都与一个值相关联\n",
    "alien_0 = {'color':'green','point':5}\n",
    "print(alien_0['color'])\n",
    "print(alien_0['point'])\n",
    "print(alien_0)"
   ]
  },
  {
   "cell_type": "code",
   "execution_count": 4,
   "metadata": {},
   "outputs": [
    {
     "name": "stdout",
     "output_type": "stream",
     "text": [
      "{'color': 'green', 'point': 5}\n",
      "{'color': 'green', 'point': 5, 'a': 'add'}\n"
     ]
    }
   ],
   "source": [
    "#6.2.2字典是一种动态结构，可随时在其中添加键—值对。\n",
    "alien_0 = {'color':'green','point':5}\n",
    "print(alien_0)\n",
    "alien_0['a']='add'\n",
    "print(alien_0)\n"
   ]
  },
  {
   "cell_type": "code",
   "execution_count": null,
   "metadata": {},
   "outputs": [],
   "source": []
  }
 ],
 "metadata": {
  "kernelspec": {
   "display_name": "Python 3",
   "language": "python",
   "name": "python3"
  },
  "language_info": {
   "codemirror_mode": {
    "name": "ipython",
    "version": 3
   },
   "file_extension": ".py",
   "mimetype": "text/x-python",
   "name": "python",
   "nbconvert_exporter": "python",
   "pygments_lexer": "ipython3",
   "version": "3.6.5"
  }
 },
 "nbformat": 4,
 "nbformat_minor": 2
}
